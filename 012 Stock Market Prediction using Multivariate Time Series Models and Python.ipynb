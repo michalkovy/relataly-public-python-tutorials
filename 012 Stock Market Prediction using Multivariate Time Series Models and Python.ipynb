{
 "cells": [
  {
   "cell_type": "markdown",
   "metadata": {},
   "source": [
    "# Step #1 Load the Data"
   ]
  },
  {
   "cell_type": "code",
   "execution_count": 1,
   "metadata": {},
   "outputs": [
    {
     "data": {
      "text/html": [
       "<div>\n",
       "<style scoped>\n",
       "    .dataframe tbody tr th:only-of-type {\n",
       "        vertical-align: middle;\n",
       "    }\n",
       "\n",
       "    .dataframe tbody tr th {\n",
       "        vertical-align: top;\n",
       "    }\n",
       "\n",
       "    .dataframe thead th {\n",
       "        text-align: right;\n",
       "    }\n",
       "</style>\n",
       "<table border=\"1\" class=\"dataframe\">\n",
       "  <thead>\n",
       "    <tr style=\"text-align: right;\">\n",
       "      <th></th>\n",
       "      <th>High</th>\n",
       "      <th>Low</th>\n",
       "      <th>Open</th>\n",
       "      <th>Close</th>\n",
       "      <th>Volume</th>\n",
       "      <th>Adj Close</th>\n",
       "    </tr>\n",
       "    <tr>\n",
       "      <th>Date</th>\n",
       "      <th></th>\n",
       "      <th></th>\n",
       "      <th></th>\n",
       "      <th></th>\n",
       "      <th></th>\n",
       "      <th></th>\n",
       "    </tr>\n",
       "  </thead>\n",
       "  <tbody>\n",
       "    <tr>\n",
       "      <th>2016-01-01</th>\n",
       "      <td>436.246002</td>\n",
       "      <td>427.515015</td>\n",
       "      <td>430.721008</td>\n",
       "      <td>434.334015</td>\n",
       "      <td>36278900.0</td>\n",
       "      <td>434.334015</td>\n",
       "    </tr>\n",
       "    <tr>\n",
       "      <th>2016-01-02</th>\n",
       "      <td>436.062012</td>\n",
       "      <td>431.869995</td>\n",
       "      <td>434.622009</td>\n",
       "      <td>433.437988</td>\n",
       "      <td>30096600.0</td>\n",
       "      <td>433.437988</td>\n",
       "    </tr>\n",
       "    <tr>\n",
       "      <th>2016-01-03</th>\n",
       "      <td>433.743011</td>\n",
       "      <td>424.705994</td>\n",
       "      <td>433.578003</td>\n",
       "      <td>430.010986</td>\n",
       "      <td>39633800.0</td>\n",
       "      <td>430.010986</td>\n",
       "    </tr>\n",
       "    <tr>\n",
       "      <th>2016-01-04</th>\n",
       "      <td>434.516998</td>\n",
       "      <td>429.084015</td>\n",
       "      <td>430.061005</td>\n",
       "      <td>433.091003</td>\n",
       "      <td>38477500.0</td>\n",
       "      <td>433.091003</td>\n",
       "    </tr>\n",
       "    <tr>\n",
       "      <th>2016-01-05</th>\n",
       "      <td>434.182007</td>\n",
       "      <td>429.675995</td>\n",
       "      <td>433.069000</td>\n",
       "      <td>431.959991</td>\n",
       "      <td>34522600.0</td>\n",
       "      <td>431.959991</td>\n",
       "    </tr>\n",
       "  </tbody>\n",
       "</table>\n",
       "</div>"
      ],
      "text/plain": [
       "                  High         Low        Open       Close      Volume  \\\n",
       "Date                                                                     \n",
       "2016-01-01  436.246002  427.515015  430.721008  434.334015  36278900.0   \n",
       "2016-01-02  436.062012  431.869995  434.622009  433.437988  30096600.0   \n",
       "2016-01-03  433.743011  424.705994  433.578003  430.010986  39633800.0   \n",
       "2016-01-04  434.516998  429.084015  430.061005  433.091003  38477500.0   \n",
       "2016-01-05  434.182007  429.675995  433.069000  431.959991  34522600.0   \n",
       "\n",
       "             Adj Close  \n",
       "Date                    \n",
       "2016-01-01  434.334015  \n",
       "2016-01-02  433.437988  \n",
       "2016-01-03  430.010986  \n",
       "2016-01-04  433.091003  \n",
       "2016-01-05  431.959991  "
      ]
     },
     "execution_count": 1,
     "metadata": {},
     "output_type": "execute_result"
    }
   ],
   "source": [
    "import pandas_datareader as webreader # Remote data access for pandas\r\n",
    "import math # Mathematical functions \r\n",
    "import numpy as np # Fundamental package for scientific computing with Python\r\n",
    "import pandas as pd # Additional functions for analysing and manipulating data\r\n",
    "from datetime import date, timedelta, datetime # Date Functions\r\n",
    "from pandas.plotting import register_matplotlib_converters # This function adds plotting functions for calender dates\r\n",
    "import matplotlib.pyplot as plt # Important package for visualization - we use this to plot the market data\r\n",
    "import matplotlib.dates as mdates # Formatting dates\r\n",
    "from sklearn.metrics import mean_absolute_error, mean_squared_error # Packages for measuring model performance / errors\r\n",
    "from keras.models import Sequential # Deep learning library, used for neural networks\r\n",
    "from keras.layers import LSTM, Dense, Dropout # Deep learning classes for recurrent and regular densely-connected layers\r\n",
    "from keras.callbacks import EarlyStopping # EarlyStopping during model training\r\n",
    "from sklearn.preprocessing import RobustScaler, MinMaxScaler # This Scaler removes the median and scales the data according to the quantile range to normalize the price data \r\n",
    "import seaborn as sns\r\n",
    "\r\n",
    "# Setting the timeframe for the data extraction\r\n",
    "today = date.today()\r\n",
    "date_today = today.strftime(\"%Y-%m-%d\")\r\n",
    "date_start = '2016-01-01'\r\n",
    "\r\n",
    "stockname = 'BTC-USD'\r\n",
    "# Getting BTC USD quotes\r\n",
    "df = webreader.DataReader(\r\n",
    "    'BTC-USD', start=date_start, end=date_today, data_source=\"yahoo\"\r\n",
    ")\r\n",
    "\r\n",
    "# Create a quick overview of the dataset\r\n",
    "train_dfs = df.copy()\r\n",
    "train_dfs.head()"
   ]
  },
  {
   "cell_type": "markdown",
   "metadata": {},
   "source": [
    "# Step #2 Exploring the Data"
   ]
  },
  {
   "cell_type": "code",
   "execution_count": 2,
   "metadata": {},
   "outputs": [
    {
     "data": {
      "image/png": "[encoded data removed]",
      "text/plain": [
       "<Figure size 1008x504 with 6 Axes>"
      ]
     },
     "metadata": {
      "needs_background": "light"
     },
     "output_type": "display_data"
    }
   ],
   "source": [
    "# Plot histograms\n",
    "df_plot = train_dfs.copy()\n",
    "\n",
    "list_length = df_plot.shape[1]\n",
    "ncols = 2\n",
    "nrows = int(round(list_length / ncols, 0))\n",
    "\n",
    "fig, ax = plt.subplots(nrows=nrows, ncols=ncols, sharex=True, figsize=(14, 7))\n",
    "fig.subplots_adjust(hspace=0.5, wspace=0.5)\n",
    "for i in range(0, list_length):\n",
    "        ax = plt.subplot(nrows,ncols,i+1)\n",
    "        sns.lineplot(data = df_plot.iloc[:, i], ax=ax)\n",
    "        ax.set_title(df_plot.columns[i])\n",
    "        ax.tick_params(axis=\"x\", rotation=30, labelsize=10, length=0)\n",
    "        ax.xaxis.set_major_locator(mdates.AutoDateLocator())\n",
    "fig.tight_layout()\n",
    "plt.show()"
   ]
  },
  {
   "cell_type": "markdown",
   "metadata": {},
   "source": [
    "# Step #3 Preprocessing and Feature Selection"
   ]
  },
  {
   "cell_type": "code",
   "execution_count": 3,
   "metadata": {},
   "outputs": [
    {
     "data": {
      "text/html": [
       "<div>\n",
       "<style scoped>\n",
       "    .dataframe tbody tr th:only-of-type {\n",
       "        vertical-align: middle;\n",
       "    }\n",
       "\n",
       "    .dataframe tbody tr th {\n",
       "        vertical-align: top;\n",
       "    }\n",
       "\n",
       "    .dataframe thead th {\n",
       "        text-align: right;\n",
       "    }\n",
       "</style>\n",
       "<table border=\"1\" class=\"dataframe\">\n",
       "  <thead>\n",
       "    <tr style=\"text-align: right;\">\n",
       "      <th></th>\n",
       "      <th>High</th>\n",
       "      <th>Low</th>\n",
       "      <th>Open</th>\n",
       "      <th>Close</th>\n",
       "      <th>Volume</th>\n",
       "      <th>Adj Close</th>\n",
       "    </tr>\n",
       "  </thead>\n",
       "  <tbody>\n",
       "    <tr>\n",
       "      <th>0</th>\n",
       "      <td>436.246002</td>\n",
       "      <td>427.515015</td>\n",
       "      <td>430.721008</td>\n",
       "      <td>434.334015</td>\n",
       "      <td>36278900.0</td>\n",
       "      <td>434.334015</td>\n",
       "    </tr>\n",
       "    <tr>\n",
       "      <th>1</th>\n",
       "      <td>436.062012</td>\n",
       "      <td>431.869995</td>\n",
       "      <td>434.622009</td>\n",
       "      <td>433.437988</td>\n",
       "      <td>30096600.0</td>\n",
       "      <td>433.437988</td>\n",
       "    </tr>\n",
       "    <tr>\n",
       "      <th>2</th>\n",
       "      <td>433.743011</td>\n",
       "      <td>424.705994</td>\n",
       "      <td>433.578003</td>\n",
       "      <td>430.010986</td>\n",
       "      <td>39633800.0</td>\n",
       "      <td>430.010986</td>\n",
       "    </tr>\n",
       "    <tr>\n",
       "      <th>3</th>\n",
       "      <td>434.516998</td>\n",
       "      <td>429.084015</td>\n",
       "      <td>430.061005</td>\n",
       "      <td>433.091003</td>\n",
       "      <td>38477500.0</td>\n",
       "      <td>433.091003</td>\n",
       "    </tr>\n",
       "    <tr>\n",
       "      <th>4</th>\n",
       "      <td>434.182007</td>\n",
       "      <td>429.675995</td>\n",
       "      <td>433.069000</td>\n",
       "      <td>431.959991</td>\n",
       "      <td>34522600.0</td>\n",
       "      <td>431.959991</td>\n",
       "    </tr>\n",
       "  </tbody>\n",
       "</table>\n",
       "</div>"
      ],
      "text/plain": [
       "         High         Low        Open       Close      Volume   Adj Close\n",
       "0  436.246002  427.515015  430.721008  434.334015  36278900.0  434.334015\n",
       "1  436.062012  431.869995  434.622009  433.437988  30096600.0  433.437988\n",
       "2  433.743011  424.705994  433.578003  430.010986  39633800.0  430.010986\n",
       "3  434.516998  429.084015  430.061005  433.091003  38477500.0  433.091003\n",
       "4  434.182007  429.675995  433.069000  431.959991  34522600.0  431.959991"
      ]
     },
     "execution_count": 3,
     "metadata": {},
     "output_type": "execute_result"
    }
   ],
   "source": [
    "# Indexing Batches\n",
    "train_df = train_dfs.sort_values(by=['Date']).copy()\n",
    "\n",
    "# We safe a copy of the dates index, before we need to reset it to numbers\n",
    "date_index = train_df.index\n",
    "\n",
    "# Adding Month and Year in separate columns\n",
    "# d = pd.to_datetime(train_df.index)\n",
    "# train_df['Month'] = d.strftime(\"%m\")\n",
    "# train_df['Year'] = d.strftime(\"%Y\") \n",
    "\n",
    "# We reset the index, so we can convert the date-index to a number-index\n",
    "train_df = train_df.reset_index(drop=True).copy()\n",
    "train_df.head(5)"
   ]
  },
  {
   "cell_type": "code",
   "execution_count": 4,
   "metadata": {},
   "outputs": [
    {
     "name": "stdout",
     "output_type": "stream",
     "text": [
      "FEATURE LIST\n",
      "['High', 'Low', 'Open', 'Close', 'Volume']\n"
     ]
    },
    {
     "data": {
      "text/html": [
       "<div>\n",
       "<style scoped>\n",
       "    .dataframe tbody tr th:only-of-type {\n",
       "        vertical-align: middle;\n",
       "    }\n",
       "\n",
       "    .dataframe tbody tr th {\n",
       "        vertical-align: top;\n",
       "    }\n",
       "\n",
       "    .dataframe thead th {\n",
       "        text-align: right;\n",
       "    }\n",
       "</style>\n",
       "<table border=\"1\" class=\"dataframe\">\n",
       "  <thead>\n",
       "    <tr style=\"text-align: right;\">\n",
       "      <th></th>\n",
       "      <th>High</th>\n",
       "      <th>Low</th>\n",
       "      <th>Open</th>\n",
       "      <th>Close</th>\n",
       "      <th>Volume</th>\n",
       "      <th>Prediction</th>\n",
       "    </tr>\n",
       "  </thead>\n",
       "  <tbody>\n",
       "    <tr>\n",
       "      <th>2000</th>\n",
       "      <td>34656.128906</td>\n",
       "      <td>32071.757812</td>\n",
       "      <td>32287.523438</td>\n",
       "      <td>34649.644531</td>\n",
       "      <td>3.551164e+10</td>\n",
       "      <td>34649.644531</td>\n",
       "    </tr>\n",
       "    <tr>\n",
       "      <th>2001</th>\n",
       "      <td>35219.890625</td>\n",
       "      <td>33902.074219</td>\n",
       "      <td>34679.121094</td>\n",
       "      <td>34434.335938</td>\n",
       "      <td>3.389252e+10</td>\n",
       "      <td>34434.335938</td>\n",
       "    </tr>\n",
       "    <tr>\n",
       "      <th>2002</th>\n",
       "      <td>36542.109375</td>\n",
       "      <td>34252.484375</td>\n",
       "      <td>34475.558594</td>\n",
       "      <td>35867.777344</td>\n",
       "      <td>3.790146e+10</td>\n",
       "      <td>35867.777344</td>\n",
       "    </tr>\n",
       "    <tr>\n",
       "      <th>2003</th>\n",
       "      <td>36074.757812</td>\n",
       "      <td>34086.152344</td>\n",
       "      <td>35908.386719</td>\n",
       "      <td>35040.835938</td>\n",
       "      <td>3.405904e+10</td>\n",
       "      <td>35040.835938</td>\n",
       "    </tr>\n",
       "    <tr>\n",
       "      <th>2004</th>\n",
       "      <td>34974.652344</td>\n",
       "      <td>33366.660156</td>\n",
       "      <td>34971.144531</td>\n",
       "      <td>33522.691406</td>\n",
       "      <td>3.714241e+10</td>\n",
       "      <td>33522.691406</td>\n",
       "    </tr>\n",
       "  </tbody>\n",
       "</table>\n",
       "</div>"
      ],
      "text/plain": [
       "              High           Low          Open         Close        Volume  \\\n",
       "2000  34656.128906  32071.757812  32287.523438  34649.644531  3.551164e+10   \n",
       "2001  35219.890625  33902.074219  34679.121094  34434.335938  3.389252e+10   \n",
       "2002  36542.109375  34252.484375  34475.558594  35867.777344  3.790146e+10   \n",
       "2003  36074.757812  34086.152344  35908.386719  35040.835938  3.405904e+10   \n",
       "2004  34974.652344  33366.660156  34971.144531  33522.691406  3.714241e+10   \n",
       "\n",
       "        Prediction  \n",
       "2000  34649.644531  \n",
       "2001  34434.335938  \n",
       "2002  35867.777344  \n",
       "2003  35040.835938  \n",
       "2004  33522.691406  "
      ]
     },
     "execution_count": 4,
     "metadata": {},
     "output_type": "execute_result"
    }
   ],
   "source": [
    "# List of considered Features\r\n",
    "FEATURES = ['High', 'Low', 'Open', 'Close', 'Volume'\r\n",
    "            #, 'Month', 'Year', 'Adj Close'\r\n",
    "           ]\r\n",
    "\r\n",
    "print('FEATURE LIST')\r\n",
    "print([f for f in FEATURES])\r\n",
    "\r\n",
    "# Create the dataset with features and filter the data to the list of FEATURES\r\n",
    "data = pd.DataFrame(train_df)\r\n",
    "data_filtered = data[FEATURES]\r\n",
    "\r\n",
    "data_filtered.to_csv('btcUsdAllFOrScaler.csv')\r\n",
    "\r\n",
    "# We add a prediction column and set dummy values to prepare the data for scaling\r\n",
    "data_filtered_ext = data_filtered.copy()\r\n",
    "data_filtered_ext['Prediction'] = data_filtered_ext['Close']\r\n",
    "\r\n",
    "# Print the tail of the dataframe\r\n",
    "data_filtered_ext.tail()"
   ]
  },
  {
   "cell_type": "code",
   "execution_count": 5,
   "metadata": {},
   "outputs": [
    {
     "name": "stdout",
     "output_type": "stream",
     "text": [
      "(2004, 5)\n"
     ]
    }
   ],
   "source": [
    "# Get the number of rows in the data\n",
    "nrows = data_filtered.shape[0]\n",
    "\n",
    "# Convert the data to numpy values\n",
    "np_data_unscaled = np.array(data_filtered)\n",
    "np_data = np.reshape(np_data_unscaled, (nrows, -1))\n",
    "print(np_data.shape)\n",
    "\n",
    "# Transform the data by scaling each feature to a range between 0 and 1\n",
    "scaler = MinMaxScaler()\n",
    "np_data_scaled = scaler.fit_transform(np_data_unscaled)\n",
    "\n",
    "# Creating a separate scaler that works on a single column for scaling predictions\n",
    "scaler_pred = MinMaxScaler()\n",
    "df_Close = pd.DataFrame(data_filtered_ext['Close'])\n",
    "np_Close_scaled = scaler_pred.fit_transform(df_Close)"
   ]
  },
  {
   "cell_type": "code",
   "execution_count": 6,
   "metadata": {},
   "outputs": [
    {
     "name": "stdout",
     "output_type": "stream",
     "text": [
      "(1602, 50, 5) (1602,)\n",
      "(351, 50, 5) (351,)\n",
      "0.01036903705727001\n",
      "0.01036903705727001\n"
     ]
    }
   ],
   "source": [
    "# Set the sequence length - this is the timeframe used to make a single prediction\r\n",
    "sequence_length = 50 # = number of neurons in the first layer of the neural network\r\n",
    "\r\n",
    "# Prediction Index\r\n",
    "index_Close = 0\r\n",
    "\r\n",
    "# Split the training data into train and train data sets\r\n",
    "# As a first step, we get the number of rows to train the model on 80% of the data \r\n",
    "test_data_len = math.ceil(np_data_scaled.shape[0] * 0.2) \r\n",
    "\r\n",
    "# Create the training and test data\r\n",
    "test_data = np_data_scaled[0:test_data_len, :] \r\n",
    "train_data = np_data_scaled[test_data_len - sequence_length:, :]\r\n",
    "\r\n",
    "# remove todays value\r\n",
    "train_data = train_data[:-1]\r\n",
    "\r\n",
    "# The RNN needs data with the format of [samples, time steps, features]\r\n",
    "# Here, we create N samples, sequence_length time steps per sample, and 6 features\r\n",
    "def partition_dataset(sequence_length, data):\r\n",
    "    x, y = [], []\r\n",
    "    data_len = data.shape[0]\r\n",
    "    for i in range(sequence_length, data_len):\r\n",
    "        x.append(data[i-sequence_length:i,:]) #contains sequence_length values 0-sequence_length * columsn\r\n",
    "        y.append(data[i, index_Close]) #contains the prediction values for validation (3rd column = Close),  for single-step prediction\r\n",
    "    \r\n",
    "    # Convert the x and y to numpy arrays\r\n",
    "    x = np.array(x)\r\n",
    "    y = np.array(y)\r\n",
    "    return x, y\r\n",
    "\r\n",
    "# Generate training data and test data\r\n",
    "x_train, y_train = partition_dataset(sequence_length, train_data)\r\n",
    "x_test, y_test = partition_dataset(sequence_length, test_data)\r\n",
    "\r\n",
    "# Print the shapes: the result is: (rows, training_sequence, features) (prediction value, )\r\n",
    "print(x_train.shape, y_train.shape)\r\n",
    "print(x_test.shape, y_test.shape)\r\n",
    "\r\n",
    "# Validate that the prediction value and the input match up\r\n",
    "# The last close price of the second input sample should equal the first prediction value\r\n",
    "print(x_train[1][sequence_length-1][index_Close])\r\n",
    "print(y_train[0])"
   ]
  },
  {
   "cell_type": "markdown",
   "metadata": {},
   "source": [
    "# Step #4 Model Training"
   ]
  },
  {
   "cell_type": "code",
   "execution_count": 7,
   "metadata": {},
   "outputs": [
    {
     "name": "stdout",
     "output_type": "stream",
     "text": [
      "250 50 5\n"
     ]
    }
   ],
   "source": [
    "# Configure the neural network model\r\n",
    "model = Sequential()\r\n",
    "\r\n",
    "# Model with n_neurons = inputshape Timestamps, each with x_train.shape[2] variables\r\n",
    "n_neurons = x_train.shape[1] * x_train.shape[2]\r\n",
    "print(n_neurons, x_train.shape[1], x_train.shape[2])\r\n",
    "model.add(LSTM(n_neurons, return_sequences=True, input_shape=(x_train.shape[1], x_train.shape[2]))) \r\n",
    "model.add(LSTM(n_neurons, return_sequences=False))\r\n",
    "model.add(Dense(5))\r\n",
    "model.add(Dense(1))\r\n",
    "\r\n",
    "# Compile the model\r\n",
    "model.compile(optimizer='adam', loss='mse')"
   ]
  },
  {
   "cell_type": "code",
   "execution_count": 8,
   "metadata": {},
   "outputs": [
    {
     "name": "stdout",
     "output_type": "stream",
     "text": [
      "Epoch 1/50\n",
      "101/101 [==============================] - 26s 110ms/step - loss: 0.0164 - val_loss: 2.3145e-04\n",
      "Epoch 2/50\n",
      "101/101 [==============================] - 10s 99ms/step - loss: 6.8655e-04 - val_loss: 1.1325e-04\n",
      "Epoch 3/50\n",
      "101/101 [==============================] - 10s 97ms/step - loss: 4.7280e-04 - val_loss: 1.0983e-04\n",
      "Epoch 4/50\n",
      "101/101 [==============================] - 10s 98ms/step - loss: 3.6505e-04 - val_loss: 1.2081e-04\n",
      "Epoch 5/50\n",
      "101/101 [==============================] - 10s 97ms/step - loss: 5.8881e-04 - val_loss: 2.5495e-05\n",
      "Epoch 6/50\n",
      "101/101 [==============================] - 10s 96ms/step - loss: 3.0263e-04 - val_loss: 5.0738e-05\n",
      "Epoch 7/50\n",
      "101/101 [==============================] - 10s 99ms/step - loss: 3.4578e-04 - val_loss: 1.4948e-05\n",
      "Epoch 8/50\n",
      "101/101 [==============================] - 10s 96ms/step - loss: 2.7483e-04 - val_loss: 4.5049e-05\n",
      "Epoch 9/50\n",
      "101/101 [==============================] - 9s 91ms/step - loss: 2.7920e-04 - val_loss: 8.2831e-06\n",
      "Epoch 10/50\n",
      "101/101 [==============================] - 7s 69ms/step - loss: 2.1947e-04 - val_loss: 2.5881e-07\n",
      "Epoch 11/50\n",
      "101/101 [==============================] - 9s 89ms/step - loss: 2.0176e-04 - val_loss: 6.3114e-05\n",
      "Epoch 12/50\n",
      "101/101 [==============================] - 8s 82ms/step - loss: 2.5484e-04 - val_loss: 4.4750e-06\n",
      "Epoch 13/50\n",
      "101/101 [==============================] - 8s 81ms/step - loss: 3.1209e-04 - val_loss: 2.2309e-05\n",
      "Epoch 14/50\n",
      "101/101 [==============================] - 8s 80ms/step - loss: 2.6375e-04 - val_loss: 3.2481e-06\n",
      "Epoch 15/50\n",
      "101/101 [==============================] - 8s 82ms/step - loss: 1.8353e-04 - val_loss: 2.0238e-05\n",
      "Epoch 16/50\n",
      "101/101 [==============================] - 8s 81ms/step - loss: 2.5152e-04 - val_loss: 2.4288e-06\n",
      "Epoch 17/50\n",
      "101/101 [==============================] - 8s 80ms/step - loss: 1.6060e-04 - val_loss: 4.5155e-05\n",
      "Epoch 18/50\n",
      "101/101 [==============================] - 8s 84ms/step - loss: 2.4023e-04 - val_loss: 1.6685e-07\n",
      "Epoch 19/50\n",
      "101/101 [==============================] - 8s 82ms/step - loss: 1.6475e-04 - val_loss: 1.1903e-05\n",
      "Epoch 20/50\n",
      "101/101 [==============================] - 8s 80ms/step - loss: 9.7911e-05 - val_loss: 1.6748e-06\n",
      "Epoch 21/50\n",
      "101/101 [==============================] - 8s 81ms/step - loss: 9.4824e-05 - val_loss: 2.1291e-06\n",
      "Epoch 22/50\n",
      "101/101 [==============================] - 8s 81ms/step - loss: 1.5354e-04 - val_loss: 8.1540e-07\n",
      "Epoch 23/50\n",
      "101/101 [==============================] - 8s 79ms/step - loss: 1.1624e-04 - val_loss: 6.2144e-06\n",
      "Epoch 24/50\n",
      "101/101 [==============================] - 8s 79ms/step - loss: 9.2032e-05 - val_loss: 3.2547e-06\n",
      "Epoch 25/50\n",
      "101/101 [==============================] - 8s 80ms/step - loss: 1.3965e-04 - val_loss: 3.2584e-05\n",
      "Epoch 26/50\n",
      "101/101 [==============================] - 8s 81ms/step - loss: 9.6572e-05 - val_loss: 2.4324e-05\n",
      "Epoch 27/50\n",
      "101/101 [==============================] - 8s 80ms/step - loss: 2.0455e-04 - val_loss: 1.5074e-05\n",
      "Epoch 28/50\n",
      "101/101 [==============================] - 8s 83ms/step - loss: 1.2618e-04 - val_loss: 1.0188e-04\n",
      "Epoch 29/50\n",
      "101/101 [==============================] - 8s 80ms/step - loss: 1.9411e-04 - val_loss: 3.8619e-05\n",
      "Epoch 30/50\n",
      "101/101 [==============================] - 8s 80ms/step - loss: 1.8439e-04 - val_loss: 1.6127e-06\n",
      "Epoch 31/50\n",
      "101/101 [==============================] - 8s 80ms/step - loss: 1.5495e-04 - val_loss: 6.2363e-05\n",
      "Epoch 32/50\n",
      "101/101 [==============================] - 8s 81ms/step - loss: 1.2752e-04 - val_loss: 1.1874e-06\n",
      "Epoch 33/50\n",
      "101/101 [==============================] - 10s 96ms/step - loss: 1.2023e-04 - val_loss: 7.1464e-07\n",
      "Epoch 34/50\n",
      "101/101 [==============================] - 9s 90ms/step - loss: 3.0950e-04 - val_loss: 4.3505e-06\n",
      "Epoch 35/50\n",
      "101/101 [==============================] - 8s 82ms/step - loss: 1.4139e-04 - val_loss: 3.0182e-06\n",
      "Epoch 36/50\n",
      "101/101 [==============================] - 8s 83ms/step - loss: 1.1159e-04 - val_loss: 6.9918e-06\n",
      "Epoch 37/50\n",
      "101/101 [==============================] - 8s 79ms/step - loss: 1.3482e-04 - val_loss: 6.2961e-07\n",
      "Epoch 38/50\n",
      "101/101 [==============================] - 8s 79ms/step - loss: 3.0658e-04 - val_loss: 2.0436e-06\n",
      "Epoch 39/50\n",
      "101/101 [==============================] - 8s 83ms/step - loss: 1.5198e-04 - val_loss: 2.0730e-05\n",
      "Epoch 40/50\n",
      "101/101 [==============================] - 8s 79ms/step - loss: 1.3352e-04 - val_loss: 2.7826e-06\n",
      "Epoch 41/50\n",
      "101/101 [==============================] - 8s 84ms/step - loss: 1.1787e-04 - val_loss: 9.6022e-05\n",
      "Epoch 42/50\n",
      "101/101 [==============================] - 8s 82ms/step - loss: 1.5484e-04 - val_loss: 1.3998e-04\n",
      "Epoch 43/50\n",
      "101/101 [==============================] - 8s 84ms/step - loss: 1.6001e-04 - val_loss: 1.5862e-05\n",
      "Epoch 44/50\n",
      "101/101 [==============================] - 8s 80ms/step - loss: 1.5734e-04 - val_loss: 9.8778e-05\n",
      "Epoch 45/50\n",
      "101/101 [==============================] - 8s 80ms/step - loss: 1.1518e-04 - val_loss: 1.3090e-06\n",
      "Epoch 46/50\n",
      "101/101 [==============================] - 8s 80ms/step - loss: 1.8870e-04 - val_loss: 3.7273e-06\n",
      "Epoch 47/50\n",
      "101/101 [==============================] - 9s 91ms/step - loss: 2.0140e-04 - val_loss: 4.5003e-07\n",
      "Epoch 48/50\n",
      "101/101 [==============================] - 8s 80ms/step - loss: 1.2188e-04 - val_loss: 1.0033e-05\n",
      "Epoch 49/50\n",
      "101/101 [==============================] - 8s 84ms/step - loss: 1.3503e-04 - val_loss: 3.1780e-05\n",
      "Epoch 50/50\n",
      "101/101 [==============================] - 8s 83ms/step - loss: 1.5187e-04 - val_loss: 2.6239e-07\n"
     ]
    },
    {
     "name": "stderr",
     "output_type": "stream",
     "text": [
      "WARNING:absl:Found untraced functions such as lstm_cell_layer_call_and_return_conditional_losses, lstm_cell_layer_call_fn, lstm_cell_1_layer_call_and_return_conditional_losses, lstm_cell_1_layer_call_fn, lstm_cell_layer_call_fn while saving (showing 5 of 10). These functions will not be directly callable after loading.\n"
     ]
    },
    {
     "name": "stdout",
     "output_type": "stream",
     "text": [
      "INFO:tensorflow:Assets written to: savedModel.tf\\assets\n"
     ]
    },
    {
     "name": "stderr",
     "output_type": "stream",
     "text": [
      "INFO:tensorflow:Assets written to: savedModel.tf\\assets\n"
     ]
    }
   ],
   "source": [
    "# Training the model\r\n",
    "epochs = 50\r\n",
    "batch_size = 16\r\n",
    "early_stop = EarlyStopping(monitor='loss', patience=5, verbose=1)\r\n",
    "history = model.fit(x_train, y_train, \r\n",
    "                    batch_size=batch_size, \r\n",
    "                    epochs=epochs,\r\n",
    "                    validation_data=(x_test, y_test)\r\n",
    "                   )\r\n",
    "\r\n",
    "model.save(\"savedModel.tf\")\r\n",
    "                    \r\n",
    "                    #callbacks=[early_stop])"
   ]
  },
  {
   "cell_type": "code",
   "execution_count": 10,
   "metadata": {},
   "outputs": [
    {
     "data": {
      "image/png": "[encoded data removed]",
      "text/plain": [
       "<Figure size 360x360 with 1 Axes>"
      ]
     },
     "metadata": {
      "needs_background": "light"
     },
     "output_type": "display_data"
    }
   ],
   "source": [
    "# Plot training & validation loss values\n",
    "fig, ax = plt.subplots(figsize=(5, 5), sharex=True)\n",
    "plt.plot(history.history[\"loss\"])\n",
    "plt.title(\"Model loss\")\n",
    "plt.ylabel(\"Loss\")\n",
    "plt.xlabel(\"Epoch\")\n",
    "ax.xaxis.set_major_locator(plt.MaxNLocator(epochs))\n",
    "plt.legend([\"Train\", \"Test\"], loc=\"upper left\")\n",
    "plt.grid()\n",
    "plt.show()"
   ]
  },
  {
   "cell_type": "markdown",
   "metadata": {},
   "source": [
    "# Step #5 Evaluate Model Performance"
   ]
  },
  {
   "cell_type": "code",
   "execution_count": 11,
   "metadata": {},
   "outputs": [
    {
     "name": "stdout",
     "output_type": "stream",
     "text": [
      "Median Absolute Error (MAE): 28.81\n",
      "Mean Absolute Percentage Error (MAPE): 4.84 %\n",
      "Median Absolute Percentage Error (MDAPE): 4.32 %\n"
     ]
    }
   ],
   "source": [
    "# Get the predicted values\r\n",
    "y_pred = model.predict(x_test)\r\n",
    "\r\n",
    "# Unscale the predicted values\r\n",
    "y_pred_unscaled = scaler_pred.inverse_transform(y_pred)\r\n",
    "y_test_unscaled = scaler_pred.inverse_transform(y_test.reshape(-1, 1))\r\n",
    "\r\n",
    "# Mean Absolute Error (MAE)\r\n",
    "MAE = mean_absolute_error(y_test_unscaled, y_pred_unscaled)\r\n",
    "print(f'Mean Absolute Error (MAE): {np.round(MAE, 2)}')\r\n",
    "\r\n",
    "# Mean Absolute Percentage Error (MAPE)\r\n",
    "MAPE = np.mean((np.abs(np.subtract(y_test_unscaled, y_pred_unscaled)/ y_test_unscaled))) * 100\r\n",
    "print(f'Mean Absolute Percentage Error (MAPE): {np.round(MAPE, 2)} %')\r\n",
    "\r\n",
    "# Median Absolute Percentage Error (MDAPE)\r\n",
    "MDAPE = np.median((np.abs(np.subtract(y_test_unscaled, y_pred_unscaled)/ y_test_unscaled)) ) * 100\r\n",
    "print(f'Median Absolute Percentage Error (MDAPE): {np.round(MDAPE, 2)} %')"
   ]
  },
  {
   "cell_type": "code",
   "execution_count": 12,
   "metadata": {},
   "outputs": [
    {
     "data": {
      "image/png": "[encoded data removed]",
      "text/plain": [
       "<Figure size 1584x720 with 1 Axes>"
      ]
     },
     "metadata": {
      "needs_background": "light"
     },
     "output_type": "display_data"
    }
   ],
   "source": [
    "# The date from which on the date is displayed\r\n",
    "display_start_date = date_start #pd.Timestamp('today') - timedelta(days=500)\r\n",
    "\r\n",
    "# Add the date column\r\n",
    "data_filtered_sub = data_filtered.copy()\r\n",
    "data_filtered_sub['Date'] = date_index\r\n",
    "\r\n",
    "# Add the difference between the valid and predicted prices\r\n",
    "train = data_filtered_sub[test_data_len - sequence_length:]\r\n",
    "valid = data_filtered_sub[:test_data_len - sequence_length]\r\n",
    "valid.insert(1, \"Prediction\", y_pred_unscaled.ravel(), True)\r\n",
    "valid.insert(1, \"Difference\", valid[\"Prediction\"] - valid[\"Close\"], True)\r\n",
    "\r\n",
    "# Zoom in to a closer timeframe\r\n",
    "valid = valid[valid['Date'] > display_start_date]\r\n",
    "train = train[train['Date'] > display_start_date]\r\n",
    "\r\n",
    "# Visualize the data\r\n",
    "fig, ax1 = plt.subplots(figsize=(22, 10), sharex=True)\r\n",
    "xt = train['Date']; yt = train[[\"Close\"]]\r\n",
    "xv = valid['Date']; yv = valid[[\"Close\", \"Prediction\"]]\r\n",
    "plt.title(\"Predictions vs Actual Values\", fontsize=20)\r\n",
    "plt.ylabel('BTC-USD', fontsize=18)\r\n",
    "plt.plot(xt, yt, color=\"#039dfc\", linewidth=2.0)\r\n",
    "plt.plot(xv, yv[\"Prediction\"], color=\"#E91D9E\", linewidth=2.0)\r\n",
    "plt.plot(xv, yv[\"Close\"], color=\"black\", linewidth=2.0)\r\n",
    "plt.legend([\"Train\", \"Test Predictions\", \"Actual Values\"], loc=\"upper left\")\r\n",
    "\r\n",
    "# # Create the bar plot with the differences\r\n",
    "x = valid['Date']\r\n",
    "y = valid[\"Difference\"]\r\n",
    "\r\n",
    "# Create custom color range for positive and negative differences\r\n",
    "valid.loc[y >= 0, 'diff_color'] = \"#2BC97A\"\r\n",
    "valid.loc[y < 0, 'diff_color'] = \"#C92B2B\"\r\n",
    "\r\n",
    "plt.bar(x, y, width=0.8, color=valid['diff_color'])\r\n",
    "plt.grid()\r\n",
    "plt.show()"
   ]
  },
  {
   "cell_type": "markdown",
   "metadata": {},
   "source": [
    "# Step #6 Predict Next Day's Price"
   ]
  },
  {
   "cell_type": "code",
   "execution_count": 13,
   "metadata": {},
   "outputs": [
    {
     "name": "stdout",
     "output_type": "stream",
     "text": [
      "WARNING:tensorflow:Model was constructed with shape (None, 50, 5) for input KerasTensor(type_spec=TensorSpec(shape=(None, 50, 5), dtype=tf.float32, name='lstm_input'), name='lstm_input', description=\"created by layer 'lstm_input'\"), but it was called on an input with incompatible shape (None, 100, 5).\n"
     ]
    },
    {
     "name": "stderr",
     "output_type": "stream",
     "text": [
      "WARNING:tensorflow:Model was constructed with shape (None, 50, 5) for input KerasTensor(type_spec=TensorSpec(shape=(None, 50, 5), dtype=tf.float32, name='lstm_input'), name='lstm_input', description=\"created by layer 'lstm_input'\"), but it was called on an input with incompatible shape (None, 100, 5).\n"
     ]
    },
    {
     "name": "stdout",
     "output_type": "stream",
     "text": [
      "The close price for BTC-USD at 2021-06-29 was 35867.78\n",
      "The predicted close price is 36114.890625 (--0.69%)\n"
     ]
    }
   ],
   "source": [
    "# Get fresh data until today and create a new dataframe with only the price data\r\n",
    "date_start = date.today() - timedelta(days=200)\r\n",
    "date_yesterday = date.today() - timedelta(days=1)\r\n",
    "new_df = webreader.DataReader(\r\n",
    "    'BTC-USD', start=date_start, end=date_today, data_source=\"yahoo\"\r\n",
    ")\r\n",
    "\r\n",
    "d = pd.to_datetime(new_df.index)\r\n",
    "new_df['Month'] = d.strftime(\"%m\") \r\n",
    "new_df['Year'] = d.strftime(\"%Y\") \r\n",
    "new_df = new_df.filter(FEATURES)\r\n",
    "new_df = new_df[:-1]\r\n",
    "\r\n",
    "new_df.to_csv('btcUsd.csv')\r\n",
    "\r\n",
    "# Get the last 100 day closing price values and scale the data to be values between 0 and 1\r\n",
    "last_100_days = new_df[-100:].values\r\n",
    "last_100_days_scaled = scaler.transform(last_100_days)\r\n",
    "\r\n",
    "# Create an empty list and Append past 100 days\r\n",
    "X_test_new = []\r\n",
    "X_test_new.append(last_100_days_scaled)\r\n",
    "\r\n",
    "# Convert the X_test data set to a numpy array and reshape the data\r\n",
    "pred_price_scaled = model.predict(np.array(X_test_new))\r\n",
    "pred_price_unscaled = scaler_pred.inverse_transform(pred_price_scaled)\r\n",
    "\r\n",
    "# Print last price and predicted price for the next day\r\n",
    "price_yesterday = round(new_df['Close'][-1], 2)\r\n",
    "predicted_price = round(pred_price_unscaled.ravel()[0], 2)\r\n",
    "percent = round(100 - (predicted_price * 100)/price_yesterday, 2)\r\n",
    "\r\n",
    "plus = '+'; minus = '-'\r\n",
    "print(f'The close price for BTC-USD at {date_yesterday} was {price_yesterday}')\r\n",
    "print(f'The predicted close price is {predicted_price} ({plus if percent > 0 else minus}{percent}%)')"
   ]
  },
  {
   "cell_type": "code",
   "execution_count": null,
   "metadata": {},
   "outputs": [],
   "source": []
  }
 ],
 "metadata": {
  "interpreter": {
   "hash": "63fd5069d213b44bf678585dea6b12cceca9941eaf7f819626cde1f2670de90d"
  },
  "kernelspec": {
   "display_name": "Python 3.9.2 64-bit",
   "name": "python3"
  },
  "language_info": {
   "codemirror_mode": {
    "name": "ipython",
    "version": 3
   },
   "file_extension": ".py",
   "mimetype": "text/x-python",
   "name": "python",
   "nbconvert_exporter": "python",
   "pygments_lexer": "ipython3",
   "version": "3.9.2"
  }
 },
 "nbformat": 4,
 "nbformat_minor": 4
}